{
 "cells": [
  {
   "cell_type": "code",
   "execution_count": 1,
   "id": "3e9a7dc5",
   "metadata": {},
   "outputs": [],
   "source": [
    "from tracking.metrics.lt_tracking_metrics import compute_f_score, compute_precision_and_recall\n",
    "import json\n",
    "import os\n",
    "import csv\n",
    "from tqdm.notebook import trange, tqdm"
   ]
  },
  {
   "cell_type": "code",
   "execution_count": 2,
   "id": "f832af41",
   "metadata": {},
   "outputs": [],
   "source": [
    "json_file = \"/checkpoint/haotang/tracking/SiamRCNN_output/all.json\"\n",
    "\n",
    "with open(json_file) as f:\n",
    "    submission = json.load(f)"
   ]
  },
  {
   "cell_type": "code",
   "execution_count": 4,
   "id": "46819d1f",
   "metadata": {},
   "outputs": [],
   "source": [
    "save_dir = \"/checkpoint/haotang/tracking/egotracks/example_submission/SiamRCNN\"\n",
    "os.makedirs(save_dir, exist_ok=True)"
   ]
  },
  {
   "cell_type": "code",
   "execution_count": 6,
   "id": "ce117372",
   "metadata": {},
   "outputs": [],
   "source": [
    "header = [\"frame_number\", \"x\", \"y\", \"w\", \"h\", \"confidence\"]\n",
    "\n",
    "for k in submission.keys():\n",
    "    data = []\n",
    "    for bbox_dict in submission[k][\"prediction_track\"]:\n",
    "        data.append([bbox_dict[\"frame_number\"] - 1, bbox_dict[\"x\"], bbox_dict[\"y\"], bbox_dict[\"width\"], bbox_dict[\"height\"], bbox_dict[\"score\"]])\n",
    "    data = data[1:]\n",
    "    \n",
    "    with open(os.path.join(save_dir, f\"{k}.csv\"), \"w\") as f:   \n",
    "        write = csv.writer(f)\n",
    "        write.writerows([header] + data)"
   ]
  },
  {
   "cell_type": "code",
   "execution_count": 62,
   "id": "6e90e3ec",
   "metadata": {},
   "outputs": [],
   "source": [
    "r = []\n",
    "with open(os.path.join(save_dir, f\"{k}.csv\"), \"r\") as f: \n",
    "    csv_reader = csv.DictReader(f)\n",
    "#     header = next(reader)\n",
    "    for row in csv_reader:\n",
    "        r.append([row[\"x\"], row[\"y\"], row[\"w\"], row[\"h\"], row[\"confidence\"]])"
   ]
  },
  {
   "cell_type": "code",
   "execution_count": 7,
   "id": "727dfc9a",
   "metadata": {},
   "outputs": [
    {
     "data": {
      "text/plain": [
       "{'frame_number': 2400,\n",
       " 'x': 1106.346923828125,\n",
       " 'y': 274.390380859375,\n",
       " 'width': 180.560791015625,\n",
       " 'height': 200.068115234375,\n",
       " 'score': 0.08557614259749652}"
      ]
     },
     "execution_count": 7,
     "metadata": {},
     "output_type": "execute_result"
    }
   ],
   "source": [
    "bbox_dict"
   ]
  },
  {
   "cell_type": "code",
   "execution_count": 48,
   "id": "77debe85",
   "metadata": {},
   "outputs": [
    {
     "data": {
      "text/plain": [
       "'/checkpoint/haotang/tracking/egotracks/example_submission/SiamRCNN/95b34b68-acf3-437f-bc7f-4c16c6bc9eb9_2_coffee maker.csv'"
      ]
     },
     "execution_count": 48,
     "metadata": {},
     "output_type": "execute_result"
    }
   ],
   "source": [
    "os.path.join(save_dir, f\"{k}.csv\")"
   ]
  },
  {
   "cell_type": "code",
   "execution_count": null,
   "id": "da22733d",
   "metadata": {},
   "outputs": [],
   "source": []
  }
 ],
 "metadata": {
  "kernelspec": {
   "display_name": "Python 3",
   "language": "python",
   "name": "python3"
  },
  "language_info": {
   "codemirror_mode": {
    "name": "ipython",
    "version": 3
   },
   "file_extension": ".py",
   "mimetype": "text/x-python",
   "name": "python",
   "nbconvert_exporter": "python",
   "pygments_lexer": "ipython3",
   "version": "3.6.13"
  }
 },
 "nbformat": 4,
 "nbformat_minor": 5
}
